{
 "cells": [
  {
   "cell_type": "code",
   "execution_count": 13,
   "metadata": {
    "collapsed": false,
    "scrolled": true
   },
   "outputs": [
    {
     "data": {
      "text/plain": [
       "(7/8, 0.875)"
      ]
     },
     "execution_count": 13,
     "metadata": {
     },
     "output_type": "execute_result"
    }
   ],
   "source": [
    "# Divide 28 por 2 elevado a la quinta potencia\n",
    "fraccion = QQ(28) / 2**5\n",
    "\n",
    "# Obtiene la aproximación decimal con 10 lugares decimales\n",
    "aprox_decimal = fraccion.numerical_approx(digits=3)\n",
    "\n",
    "# Muestra los resultados\n",
    "fraccion, aprox_decimal"
   ]
  },
  {
   "cell_type": "code",
   "execution_count": 23,
   "metadata": {
    "collapsed": false
   },
   "outputs": [
    {
     "data": {
      "text/latex": [
       "$\\displaystyle 1.4142135623731$"
      ],
      "text/plain": [
       "1.41421356237310"
      ]
     },
     "execution_count": 23,
     "metadata": {
     },
     "output_type": "execute_result"
    }
   ],
   "source": [
    "# Importa la función de raíz cuadrada\n",
    "from sympy import sqrt\n",
    "\n",
    "# Calcula la raíz cuadrada de 2\n",
    "raiz_cuadrada_2 = sqrt(2)\n",
    "\n",
    "# Obtiene la aproximación decimal con 10 lugares decimales\n",
    "aprox_decimal = raiz_cuadrada_2.n()\n",
    "\n",
    "# Muestra el resultado\n",
    "aprox_decimal"
   ]
  },
  {
   "cell_type": "code",
   "execution_count": 25,
   "metadata": {
    "collapsed": false
   },
   "outputs": [
    {
     "data": {
      "text/latex": [
       "$\\displaystyle 3 i$"
      ],
      "text/plain": [
       "3*I"
      ]
     },
     "execution_count": 25,
     "metadata": {
     },
     "output_type": "execute_result"
    }
   ],
   "source": [
    "# Import the square root function\n",
    "from sage.symbolic.constants import I\n",
    "\n",
    "# Calculate the square root of -9 using complex numbers\n",
    "raiz_cuadrada_negativa = sqrt(-9)\n",
    "\n",
    "# Show the result\n",
    "raiz_cuadrada_negativa\n"
   ]
  },
  {
   "cell_type": "code",
   "execution_count": 26,
   "metadata": {
    "collapsed": false
   },
   "outputs": [
    {
     "data": {
      "text/plain": [
       "51"
      ]
     },
     "execution_count": 26,
     "metadata": {
     },
     "output_type": "execute_result"
    }
   ],
   "source": [
    "# Define el número\n",
    "numero = 2153693963075557766310747\n",
    "\n",
    "# Calcula el logaritmo en base 3\n",
    "logaritmo_base_3 = log(numero, base=3)\n",
    "\n",
    "# Muestra el resultado\n",
    "logaritmo_base_3"
   ]
  },
  {
   "cell_type": "code",
   "execution_count": 27,
   "metadata": {
    "collapsed": false
   },
   "outputs": [
    {
     "data": {
      "text/plain": [
       "2.7182818284590452353602874713526624977572470937000"
      ]
     },
     "execution_count": 27,
     "metadata": {
     },
     "output_type": "execute_result"
    }
   ],
   "source": [
    "# Calcula las primeras 50 cifras decimales de e\n",
    "e_aproximacion = e.n(digits=50)\n",
    "\n",
    "# Muestra el resultado\n",
    "e_aproximacion"
   ]
  },
  {
   "cell_type": "code",
   "execution_count": 28,
   "metadata": {
    "collapsed": false
   },
   "outputs": [
    {
     "data": {
      "text/plain": [
       "3.1415926535897932384626433832795028841971693993751058209749445923078164062862090"
      ]
     },
     "execution_count": 28,
     "metadata": {
     },
     "output_type": "execute_result"
    }
   ],
   "source": [
    "# Calcula las primeras 80 cifras decimales de pi\n",
    "pi_aproximacion = pi.n(digits=80)\n",
    "\n",
    "# Muestra el resultado\n",
    "pi_aproximacion"
   ]
  },
  {
   "cell_type": "code",
   "execution_count": 29,
   "metadata": {
    "collapsed": false
   },
   "outputs": [
    {
     "data": {
      "text/plain": [
       "(9, 74)"
      ]
     },
     "execution_count": 29,
     "metadata": {
     },
     "output_type": "execute_result"
    }
   ],
   "source": [
    "# Define los números\n",
    "dividendo = 956\n",
    "divisor = 98\n",
    "\n",
    "# Obtiene el cociente y el resto\n",
    "cociente, resto = divmod(dividendo, divisor)\n",
    "\n",
    "# Muestra los resultados\n",
    "cociente, resto"
   ]
  },
  {
   "cell_type": "code",
   "execution_count": 30,
   "metadata": {
    "collapsed": false
   },
   "outputs": [
    {
     "data": {
      "text/plain": [
       "(9, 74, True)"
      ]
     },
     "execution_count": 30,
     "metadata": {
     },
     "output_type": "execute_result"
    }
   ],
   "source": [
    "# Define los números\n",
    "dividendo = 956\n",
    "divisor = 98\n",
    "\n",
    "# Obtiene el cociente y el resto\n",
    "cociente, resto = divmod(dividendo, divisor)\n",
    "\n",
    "# Verifica la propiedad de la prueba de Euclides\n",
    "verificacion = dividendo == divisor * cociente + resto\n",
    "\n",
    "# Muestra los resultados\n",
    "cociente, resto, verificacion"
   ]
  },
  {
   "cell_type": "code",
   "execution_count": 33,
   "metadata": {
    "collapsed": false
   },
   "outputs": [
    {
     "data": {
      "text/plain": [
       "False"
      ]
     },
     "execution_count": 33,
     "metadata": {
     },
     "output_type": "execute_result"
    }
   ],
   "source": [
    "# Define los números\n",
    "numero = 234878\n",
    "divisor = 3\n",
    "\n",
    "# Verifica si 3 divide a 234878\n",
    "es_divisible = (numero % divisor == 0)\n",
    "\n",
    "# Muestra el resultado\n",
    "es_divisible"
   ]
  },
  {
   "cell_type": "code",
   "execution_count": 34,
   "metadata": {
    "collapsed": false
   },
   "outputs": [
    {
     "data": {
      "text/plain": [
       "{134: [1, 2, 67, 134],\n",
       " 491: [1, 491],\n",
       " 422: [1, 2, 211, 422],\n",
       " 1002: [1, 2, 3, 6, 167, 334, 501, 1002]}"
      ]
     },
     "execution_count": 34,
     "metadata": {
     },
     "output_type": "execute_result"
    }
   ],
   "source": [
    "# Define los números\n",
    "numeros = [134, 491, 422, 1002]\n",
    "\n",
    "# Calcula los divisores de cada número\n",
    "divisores_por_numero = {num: divisors(num) for num in numeros}\n",
    "\n",
    "# Muestra los resultados\n",
    "divisores_por_numero"
   ]
  },
  {
   "cell_type": "code",
   "execution_count": 35,
   "metadata": {
    "collapsed": false
   },
   "outputs": [
    {
     "data": {
      "text/plain": [
       "[491]"
      ]
     },
     "execution_count": 35,
     "metadata": {
     },
     "output_type": "execute_result"
    }
   ],
   "source": [
    "# Define los números\n",
    "numeros = [134, 491, 422, 1002]\n",
    "\n",
    "# Filtra los números primos\n",
    "primos = [num for num in numeros if is_prime(num)]\n",
    "\n",
    "# Muestra los resultados\n",
    "primos"
   ]
  },
  {
   "cell_type": "code",
   "execution_count": 36,
   "metadata": {
    "collapsed": false
   },
   "outputs": [
    {
     "data": {
      "text/plain": [
       "[(1, 10), (2, 20), (3, 306)]"
      ]
     },
     "execution_count": 36,
     "metadata": {
     },
     "output_type": "execute_result"
    }
   ],
   "source": [
    "# Define los pares de números\n",
    "pares_numeros = [(2, 5), (4, 10), (18, 51)]\n",
    "\n",
    "# Calcula el mcd y el mcm para cada par\n",
    "resultados = [(gcd(a, b), lcm(a, b)) for a, b in pares_numeros]\n",
    "\n",
    "# Muestra los resultados\n",
    "resultados"
   ]
  },
  {
   "cell_type": "code",
   "execution_count": 0,
   "metadata": {
    "collapsed": false
   },
   "outputs": [
   ],
   "source": [
   ]
  }
 ],
 "metadata": {
  "kernelspec": {
   "argv": [
    "sage-10.1",
    "--python",
    "-m",
    "sage.repl.ipython_kernel",
    "--matplotlib=inline",
    "-f",
    "{connection_file}"
   ],
   "display_name": "SageMath 10.1",
   "env": {
   },
   "language": "sagemath",
   "metadata": {
    "cocalc": {
     "description": "Open-source mathematical software system",
     "priority": 10,
     "url": "https://www.sagemath.org/"
    }
   },
   "name": "sage-10.1",
   "resource_dir": "/ext/jupyter/kernels/sage-10.1"
  },
  "language_info": {
   "codemirror_mode": {
    "name": "ipython",
    "version": 3
   },
   "file_extension": ".py",
   "mimetype": "text/x-python",
   "name": "python",
   "nbconvert_exporter": "python",
   "pygments_lexer": "ipython3",
   "version": "3.11.1"
  }
 },
 "nbformat": 4,
 "nbformat_minor": 4
}